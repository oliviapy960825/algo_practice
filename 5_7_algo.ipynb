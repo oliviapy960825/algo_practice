{
 "cells": [
  {
   "cell_type": "code",
   "execution_count": null,
   "metadata": {},
   "outputs": [],
   "source": [
    "\"\"\"\n",
    "#116 Medium\n",
    "\n",
    "This problem was asked by Jane Street.\n",
    "\n",
    "Generate a finite, but an arbitrarily large binary tree quickly in O(1).\n",
    "\n",
    "That is, generate() should return a tree whose size is unbounded but finite.\n",
    "\"\"\"\n",
    "import random\n",
    "\n",
    "def generate():\n",
    "    root=Node(0)\n",
    "    if random.random()<0.5:\n",
    "        root.left=generate()\n",
    "    if random.random()<0.5:\n",
    "        root.right=generate()\n",
    "    return root"
   ]
  },
  {
   "cell_type": "code",
   "execution_count": null,
   "metadata": {},
   "outputs": [],
   "source": [
    "\"\"\"\n",
    "#117\n",
    "\n",
    "This problem was asked by Facebook.\n",
    "\n",
    "Given a binary tree, return the level of the tree with minimum sum.\n",
    "\"\"\"\n",
    "\n",
    "def maxLevelSum(self, root: TreeNode) -> int:\n",
    "    if not root:\n",
    "        return 0\n",
    "    if not root.left and not root.right:\n",
    "        return 1\n",
    "    def inorder(node,level):\n",
    "        if node:\n",
    "            inorder(node.left,level+1)\n",
    "            level_sum[level]+=node.val\n",
    "            inorder(node.right,level+1)\n",
    "                \n",
    "    level_sum=defaultdict(int)\n",
    "    inorder(root,1)\n",
    "        \n",
    "    return min(level_sum,key=level_sum.get)"
   ]
  },
  {
   "cell_type": "code",
   "execution_count": null,
   "metadata": {},
   "outputs": [],
   "source": [
    "\"\"\"\n",
    "Move Zeroes\n",
    "Given an array nums, write a function to move all 0's to the end of it while maintaining the relative order of the \n",
    "non-zero elements.\n",
    "\n",
    "Example:\n",
    "\n",
    "Input: [0,1,0,3,12]\n",
    "Output: [1,3,12,0,0]\n",
    "\n",
    "Note:\n",
    "\n",
    "    You must do this in-place without making a copy of the array.\n",
    "    Minimize the total number of operations.\n",
    "\n",
    "\"\"\"\n",
    "def moveZeroes(self, nums: List[int]) -> None:\n",
    "        \"\"\"\n",
    "        Do not return anything, modify nums in-place instead.\n",
    "        \"\"\"\n",
    "    if not nums or len(nums)<=1:\n",
    "        return nums\n",
    "    p0=0\n",
    "    while p0<len(nums):\n",
    "        while p0<len(nums) and nums[p0]!=0:\n",
    "            p0+=1\n",
    "        p1=p0+1\n",
    "        while p1<len(nums) and nums[p1]==0:\n",
    "            p1+=1\n",
    "        if p1>=len(nums):\n",
    "            return nums\n",
    "        nums[p0]=nums[p1]\n",
    "        nums[p1]=0\n",
    "        p0+=1\n",
    "    return nums"
   ]
  }
 ],
 "metadata": {
  "kernelspec": {
   "display_name": "Python 3",
   "language": "python",
   "name": "python3"
  },
  "language_info": {
   "codemirror_mode": {
    "name": "ipython",
    "version": 3
   },
   "file_extension": ".py",
   "mimetype": "text/x-python",
   "name": "python",
   "nbconvert_exporter": "python",
   "pygments_lexer": "ipython3",
   "version": "3.7.6"
  }
 },
 "nbformat": 4,
 "nbformat_minor": 4
}
