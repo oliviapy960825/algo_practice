{
 "cells": [
  {
   "cell_type": "code",
   "execution_count": 1,
   "metadata": {},
   "outputs": [
    {
     "data": {
      "text/plain": [
       "[0, 1, 8, 27, 64, 125, 216, 343, 512, 729]"
      ]
     },
     "execution_count": 1,
     "metadata": {},
     "output_type": "execute_result"
    }
   ],
   "source": [
    "#first 10 numbers starting from 0\n",
    "\n",
    "[x**3 for x in range(10)]"
   ]
  },
  {
   "cell_type": "code",
   "execution_count": 2,
   "metadata": {},
   "outputs": [
    {
     "data": {
      "text/plain": [
       "['a', 'ab', 'cba', 'abcds', 'sde']"
      ]
     },
     "execution_count": 2,
     "metadata": {},
     "output_type": "execute_result"
    }
   ],
   "source": [
    "#takes a list of strings\n",
    "#return a new list and should be identical to the first list\n",
    "#with the exception that every even element has been reversed\n",
    "\n",
    "\n",
    "def reverse(lst):\n",
    "    new_lst=[]\n",
    "    for i,ele in enumerate(lst):\n",
    "        if i%2==0: #i is even index\n",
    "            new_lst[i]=(lst[i][::-1])\n",
    "        new_lst.append()\n",
    "            \n",
    "    return new_lst\n",
    "\n",
    "lst=['a','ab','abc','abcds','eds']\n",
    "\n",
    "reverse(lst)"
   ]
  },
  {
   "cell_type": "code",
   "execution_count": 3,
   "metadata": {},
   "outputs": [
    {
     "data": {
      "text/plain": [
       "[2688, 6720, 3360, 2240, 1920, 1680]"
      ]
     },
     "execution_count": 3,
     "metadata": {},
     "output_type": "execute_result"
    }
   ],
   "source": [
    "#takes a list of numbers (integers)\n",
    "#return a list of the same length, where each element representing the \n",
    "#product of the list excluding the current index\n",
    "\n",
    "#assume there's no 0\n",
    "def product_list(lst):\n",
    "    product=1\n",
    "    for i in lst:\n",
    "        product*=i\n",
    "    new_lst=[]\n",
    "    for i in range(len(lst)):\n",
    "        new_lst.append(product//lst[i])\n",
    "        \n",
    "    return new_lst\n",
    "\n",
    "product_list([5,2,4,6,7,8])"
   ]
  },
  {
   "cell_type": "code",
   "execution_count": null,
   "metadata": {},
   "outputs": [],
   "source": []
  }
 ],
 "metadata": {
  "kernelspec": {
   "display_name": "Python 3",
   "language": "python",
   "name": "python3"
  },
  "language_info": {
   "codemirror_mode": {
    "name": "ipython",
    "version": 3
   },
   "file_extension": ".py",
   "mimetype": "text/x-python",
   "name": "python",
   "nbconvert_exporter": "python",
   "pygments_lexer": "ipython3",
   "version": "3.7.6"
  }
 },
 "nbformat": 4,
 "nbformat_minor": 4
}
