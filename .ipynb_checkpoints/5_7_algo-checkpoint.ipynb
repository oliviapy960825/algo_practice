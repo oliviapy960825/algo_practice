{
 "cells": [
  {
   "cell_type": "code",
   "execution_count": null,
   "metadata": {},
   "outputs": [],
   "source": [
    "\"\"\"\n",
    "#116 Medium\n",
    "\n",
    "This problem was asked by Jane Street.\n",
    "\n",
    "Generate a finite, but an arbitrarily large binary tree quickly in O(1).\n",
    "\n",
    "That is, generate() should return a tree whose size is unbounded but finite.\n",
    "\"\"\"\n",
    "import random\n",
    "\n",
    "def generate():\n",
    "    root=Node(0)\n",
    "    if random.random()<0.5:\n",
    "        root.left=generate()\n",
    "    if random.random()<0.5:\n",
    "        root.right=generate()\n",
    "    return root"
   ]
  }
 ],
 "metadata": {
  "kernelspec": {
   "display_name": "Python 3",
   "language": "python",
   "name": "python3"
  },
  "language_info": {
   "codemirror_mode": {
    "name": "ipython",
    "version": 3
   },
   "file_extension": ".py",
   "mimetype": "text/x-python",
   "name": "python",
   "nbconvert_exporter": "python",
   "pygments_lexer": "ipython3",
   "version": "3.7.6"
  }
 },
 "nbformat": 4,
 "nbformat_minor": 4
}
