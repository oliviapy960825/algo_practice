{
 "cells": [
  {
   "cell_type": "code",
   "execution_count": null,
   "metadata": {},
   "outputs": [],
   "source": [
    "\"\"\"\n",
    "This problem was asked by Microsoft.\n",
    "\n",
    "Implement the singleton pattern with a twist. First, instead of storing one instance, store two instances. And in \n",
    "every even call of getInstance(), return the first instance and in every odd call of getInstance(), return the second \n",
    "instance.\n",
    "\n",
    "\"\"\""
   ]
  },
  {
   "cell_type": "code",
   "execution_count": null,
   "metadata": {},
   "outputs": [],
   "source": [
    "\"\"\"\n",
    "282. Expression Add Operators\n",
    "\n",
    "Given a string that contains only digits 0-9 and a target value, return all possibilities to add binary operators (not unary) +, -, or * between the digits so they evaluate to the target value.\n",
    "\n",
    "Example 1:\n",
    "\n",
    "Input: num = \"123\", target = 6\n",
    "Output: [\"1+2+3\", \"1*2*3\"] \n",
    "Example 2:\n",
    "\n",
    "Input: num = \"232\", target = 8\n",
    "Output: [\"2*3+2\", \"2+3*2\"]\n",
    "Example 3:\n",
    "\n",
    "Input: num = \"105\", target = 5\n",
    "Output: [\"1*0+5\",\"10-5\"]\n",
    "Example 4:\n",
    "\n",
    "Input: num = \"00\", target = 0\n",
    "Output: [\"0+0\", \"0-0\", \"0*0\"]\n",
    "Example 5:\n",
    "\n",
    "Input: num = \"3456237490\", target = 9191\n",
    "Output: []\n",
    "\"\"\"\n",
    "\n",
    "def addOperators(self, num: str, target: int) -> List[str]:\n",
    "    def dfs(num,target,result,path,p,val,mul):\n",
    "        if p==len(num):\n",
    "            if val==target:\n",
    "                result.append(path)\n",
    "            return\n",
    "        for i in range(p,len(num)):\n",
    "            if num[p]=='0' and i!=p:\n",
    "                break\n",
    "                \n",
    "            cur=int(num[p:i+1])\n",
    "            if p==0:\n",
    "                dfs(num,target,result,path+str(cur),i+1,cur,cur)\n",
    "\n",
    "            else:\n",
    "                dfs(num,target,result,path+'+'+str(cur),i+1,cur+val,cur)\n",
    "                dfs(num,target,result,path+'-'+str(cur),i+1,val-cur,-cur)\n",
    "                dfs(num,target,result,path+'*'+str(cur),i+1,val-mul+cur*mul,cur*mul)\n",
    "                    \n",
    "                    \n",
    "    path=''\n",
    "    result=[]\n",
    "        \n",
    "    dfs(num,target,result,path,0,0,0)\n",
    "        \n",
    "    return result\n",
    "                "
   ]
  }
 ],
 "metadata": {
  "kernelspec": {
   "display_name": "Python 3",
   "language": "python",
   "name": "python3"
  },
  "language_info": {
   "codemirror_mode": {
    "name": "ipython",
    "version": 3
   },
   "file_extension": ".py",
   "mimetype": "text/x-python",
   "name": "python",
   "nbconvert_exporter": "python",
   "pygments_lexer": "ipython3",
   "version": "3.7.6"
  }
 },
 "nbformat": 4,
 "nbformat_minor": 4
}
