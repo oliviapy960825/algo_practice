{
 "cells": [
  {
   "cell_type": "code",
   "execution_count": null,
   "metadata": {},
   "outputs": [],
   "source": [
    "\"\"\"\n",
    "386. Longest Substring with At Most K Distinct Characters\n",
    "Given a string S, find the length of the longest substring T that contains at most k distinct characters.\n",
    "\n",
    "Have you met this question in a real interview?  \n",
    "Example\n",
    "Example 1:\n",
    "\n",
    "Input: S = \"eceba\" and k = 3\n",
    "Output: 4\n",
    "Explanation: T = \"eceb\"\n",
    "Example 2:\n",
    "\n",
    "Input: S = \"WORLD\" and k = 4\n",
    "Output: 4\n",
    "Explanation: T = \"WORL\" or \"ORLD\"\n",
    "Challenge\n",
    "O(n) time\n",
    "\"\"\"\n",
    "def lengthOfLongestSubstringKDistinct(self, s, k):\n",
    "        # write your code here\n",
    "    if not s or len(s)==0 or k==0:\n",
    "        return 0\n",
    "    if len(s)<=k:\n",
    "        return len(s)\n",
    "    p1=0\n",
    "    p2=1 \n",
    "    count=1\n",
    "    string=0\n",
    "        #lst=[s[p1]]\n",
    "    dic={}\n",
    "    dic[s[p1]]=1\n",
    "    while p2<len(s):\n",
    "        if s[p2] in dic and dic[s[p2]]>0:\n",
    "            dic[s[p2]]+=1 \n",
    "        else:\n",
    "            dic[s[p2]]=1 \n",
    "            count+=1 \n",
    "        p2+=1\n",
    "        while count>k:\n",
    "            dic[s[p1]]-=1\n",
    "            if dic[s[p1]]==0:\n",
    "                count-=1 \n",
    "            p1+=1\n",
    "        string=max(string,p2-p1)\n",
    "                \n",
    "    return string\n",
    "            "
   ]
  },
  {
   "cell_type": "code",
   "execution_count": 3,
   "metadata": {},
   "outputs": [
    {
     "name": "stdout",
     "output_type": "stream",
     "text": [
      "True\n"
     ]
    }
   ],
   "source": [
    "\"\"\"\n",
    "#108\n",
    "This problem was asked by Google.\n",
    "\n",
    "Given two strings A and B, return whether or not A can be shifted some number of times to get B.\n",
    "\n",
    "For example, if A is abcde and B is cdeab, return true. If A is abc and B is acb, return false.\n",
    "\"\"\"\n",
    "def rotateString(A,B):\n",
    "    return len(A) == len(B) and B in A+A\n",
    "\n",
    "print(rotateString(\"bbbacddceeb\",\"ceebbbbacdd\"))"
   ]
  },
  {
   "cell_type": "code",
   "execution_count": null,
   "metadata": {},
   "outputs": [],
   "source": [
    "\"\"\"\n",
    "#109 Medium\n",
    "This problem was asked by Cisco.\n",
    "\n",
    "Given an unsigned 8-bit integer, swap its even and odd bits. The 1st and 2nd bit should be swapped, the 3rd and \n",
    "4th bit should be swapped, and so on.\n",
    "\n",
    "For example, 10101010 should be 01010101. 11100010 should be 11010001.\n",
    "\n",
    "Bonus: Can you do this in one line?\n",
    "\"\"\"\n"
   ]
  }
 ],
 "metadata": {
  "kernelspec": {
   "display_name": "Python 3",
   "language": "python",
   "name": "python3"
  },
  "language_info": {
   "codemirror_mode": {
    "name": "ipython",
    "version": 3
   },
   "file_extension": ".py",
   "mimetype": "text/x-python",
   "name": "python",
   "nbconvert_exporter": "python",
   "pygments_lexer": "ipython3",
   "version": "3.7.3"
  }
 },
 "nbformat": 4,
 "nbformat_minor": 2
}
