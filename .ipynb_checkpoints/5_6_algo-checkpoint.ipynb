{
 "cells": [
  {
   "cell_type": "code",
   "execution_count": 10,
   "metadata": {},
   "outputs": [
    {
     "data": {
      "text/plain": [
       "'here/world:hello'"
      ]
     },
     "execution_count": 10,
     "metadata": {},
     "output_type": "execute_result"
    }
   ],
   "source": [
    "\"\"\"\n",
    "#106 Hard\n",
    "This problem was asked by Facebook.\n",
    "\n",
    "Given a string and a set of delimiters, reverse the words in the string while maintaining the relative order of the \n",
    "delimiters. For example, given \"hello/world:here\", return \"here/world:hello\"\n",
    "\n",
    "Follow-up: Does your solution work for the following cases: \"hello/world:here/\", \"hello//world:here\"\n",
    "\"\"\"\n",
    "from collections import deque\n",
    "def reverseString(string):\n",
    "    left=0\n",
    "    right=len(string)-1\n",
    "    word=[]\n",
    "    queue=deque()\n",
    "    stack=[]   \n",
    "    while left<=right:\n",
    "        if string[left].isalpha():\n",
    "            word.append(string[left])\n",
    "        else:\n",
    "            queue.appendleft(''.join(word))\n",
    "            word=[]\n",
    "            stack.append(string[left])\n",
    "        left+=1\n",
    "    queue.appendleft(''.join(word))\n",
    "    new_str=\"\"\n",
    "    while len(queue)>0:\n",
    "        if len(queue)>0:\n",
    "            new_str+=queue.pop()\n",
    "        if len(stack)>0:\n",
    "            new_str+=stack.pop(0)\n",
    "        \n",
    "    \n",
    "    return new_str\n",
    "\n",
    "\n",
    "reverseString(\"here/world:hello\")\n",
    "\n",
    "    "
   ]
  },
  {
   "cell_type": "code",
   "execution_count": null,
   "metadata": {},
   "outputs": [],
   "source": [
    "\"\"\"\n",
    "This problem was asked by Google.\n",
    "\n",
    "Given two non-empty binary trees s and t, check whether tree t has exactly the same structure and node values with \n",
    "a subtree of s. A subtree of s is a tree consists of a node in s and all of this node's descendants. The tree s could \n",
    "also be considered as a subtree of itself.\n",
    "\"\"\"\n",
    "def isSubtree(self, s: TreeNode, t: TreeNode) -> bool:\n",
    "    def equals(x,y):\n",
    "        if not x and not y:\n",
    "            return True\n",
    "        if not x or not y:\n",
    "            return False\n",
    "        return x.val==y.val and equals(x.left,y.left) and equals(x.right,y.right)\n",
    "\n",
    "    return s and (equals(s,t) or self.isSubtree(s.left,t) or self.isSubtree(s.right,t))\n"
   ]
  }
 ],
 "metadata": {
  "kernelspec": {
   "display_name": "Python 3",
   "language": "python",
   "name": "python3"
  },
  "language_info": {
   "codemirror_mode": {
    "name": "ipython",
    "version": 3
   },
   "file_extension": ".py",
   "mimetype": "text/x-python",
   "name": "python",
   "nbconvert_exporter": "python",
   "pygments_lexer": "ipython3",
   "version": "3.7.3"
  }
 },
 "nbformat": 4,
 "nbformat_minor": 2
}
